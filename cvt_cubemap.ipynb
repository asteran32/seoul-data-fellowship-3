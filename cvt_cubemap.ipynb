{
 "cells": [
  {
   "cell_type": "markdown",
   "metadata": {},
   "source": [
    "## Convert a spherical panorama image to cube map image\n",
    "\n",
    "이 노트북에서는 360° 파노라마 이미지 평탄하게 변환하는 과정을 소개합니다.</br>객체 감지(Object Detection)을 수행하기 앞서 파노라마 이미지의 왜곡을 보정해주는 전처리 작업을 진행해 딥러닝 모델의 성능을 향상 시킬 수 있습니다.\n",
    "\n",
    "<이미지 예시>\n",
    "\n",
    "<div align=\"center\">\n",
    "    <img src=\"imgs/spherical.jpg\" height=\"200\" width=\"300\" />\n",
    "    <img src=\"imgs/cube_map.jpg\" height=\"200\" width=\"300\" /> \n",
    "</div>\n",
    "\n"
   ]
  },
  {
   "cell_type": "markdown",
   "metadata": {},
   "source": [
    "#### 1. 패키지 설치"
   ]
  },
  {
   "cell_type": "code",
   "execution_count": null,
   "metadata": {},
   "outputs": [],
   "source": [
    "pip install Pillow opencv-python"
   ]
  },
  {
   "cell_type": "markdown",
   "metadata": {},
   "source": [
    "#### 2. 패키지 불러오기"
   ]
  },
  {
   "cell_type": "code",
   "execution_count": 1,
   "metadata": {},
   "outputs": [],
   "source": [
    "import numpy as np\n",
    "import os\n",
    "from tqdm import tqdm\n",
    "from glob import glob\n",
    "from transform import cvt_cubemap\n",
    "from common import imwrite"
   ]
  },
  {
   "cell_type": "markdown",
   "metadata": {},
   "source": [
    "#### 3. 데이터베이스 이미지 불러오기\n",
    "\n",
    "제공 받은 이미지 데이터 파일 구조 예시:\n",
    "\n",
    "&nbsp;&nbsp;&nbsp;&nbsp;20231025/강서-001-001/pic_1.jpg</br>\n",
    "&nbsp;&nbsp;&nbsp;&nbsp;20231025/강서-001-002/pic_1.jpg</br>\n",
    "&nbsp;&nbsp;&nbsp;&nbsp;...</br>\n",
    "&nbsp;&nbsp;&nbsp;&nbsp;20231025/강서-025-001/pic_1.jpg"
   ]
  },
  {
   "cell_type": "code",
   "execution_count": 2,
   "metadata": {},
   "outputs": [
    {
     "name": "stdout",
     "output_type": "stream",
     "text": [
      "------------------------------\n",
      "Folder path : 20231025\n",
      "Number of images : 44\n"
     ]
    }
   ],
   "source": [
    "dir_path = '20231025'\n",
    "\n",
    "parttern = os.path.join(dir_path, '*/*.jpg')\n",
    "file_lists = glob(parttern)\n",
    "\n",
    "print('---'*10)\n",
    "print(f'Folder path : {dir_path}\\nNumber of images : {len(file_lists)}')"
   ]
  },
  {
   "cell_type": "markdown",
   "metadata": {},
   "source": [
    "#### 4. 새 디렉토리 만들기"
   ]
  },
  {
   "cell_type": "code",
   "execution_count": 3,
   "metadata": {},
   "outputs": [
    {
     "name": "stdout",
     "output_type": "stream",
     "text": [
      "Example of file pattern : 20231025\\강동-002-005\\PIC_20211123_123036.jpg\n",
      "Road name : 강동\n",
      "------------------------------\n",
      "New folder path : trans_dataset/강동\n"
     ]
    }
   ],
   "source": [
    "print(f'Example of file pattern : {file_lists[0]}')\n",
    "\n",
    "gu = file_lists[0].split('/')[-2]\n",
    "gu = gu.split('-')[0]\n",
    "print(f'Road name : {gu}')\n",
    "\n",
    "new_dir_path = f'trans_dataset/{gu}'\n",
    "\n",
    "if not os.path.exists(new_dir_path):\n",
    "    os.makedirs(new_dir_path)\n",
    "\n",
    "print('---'*10)\n",
    "\n",
    "print(f'New folder path : {new_dir_path}')"
   ]
  },
  {
   "cell_type": "markdown",
   "metadata": {},
   "source": [
    "#### 5. 변환하기"
   ]
  },
  {
   "cell_type": "code",
   "execution_count": 7,
   "metadata": {},
   "outputs": [
    {
     "name": "stderr",
     "output_type": "stream",
     "text": [
      "Processing : 100%|██████████| 44/44 [03:04<00:00,  4.20s/it]\n"
     ]
    }
   ],
   "source": [
    "for f in tqdm(file_lists, desc='Processing : '):\n",
    "    imgs = cvt_cubemap(f, 640)\n",
    "\n",
    "    for i in range(4):\n",
    "        str_list = f.split('\\\\')\n",
    "        \n",
    "        # It might be 강서-001-001_PIC_20211123_123036_0.jpg like this..\n",
    "        out_name = str_list[-2] + '_' + str_list[-1].split('.')[0] + '_' + str(i) + '.jpg'\n",
    "        \n",
    "        imwrite(os.path.join(new_dir_path, out_name), imgs[i])"
   ]
  }
 ],
 "metadata": {
  "kernelspec": {
   "display_name": "Python 3",
   "language": "python",
   "name": "python3"
  },
  "language_info": {
   "codemirror_mode": {
    "name": "ipython",
    "version": 3
   },
   "file_extension": ".py",
   "mimetype": "text/x-python",
   "name": "python",
   "nbconvert_exporter": "python",
   "pygments_lexer": "ipython3",
   "version": "3.9.13"
  }
 },
 "nbformat": 4,
 "nbformat_minor": 2
}
