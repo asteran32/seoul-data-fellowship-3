{
 "cells": [
  {
   "cell_type": "markdown",
   "metadata": {},
   "source": [
    "## 객체 탐지(Object Detection)을 통한 거리뷰 이미지 위험도 분석\n",
    "\n",
    "이 노트북에서는 YOLO(You Only Look Once) v8 물체 탐지 모델을 활용하여 거리뷰 이미지에서 노상에 적치된 객체와 협소도로 주차 문제를 분석합니다. </br> 분석 결과를 엑셀에 기록하여 자치구별로 정리하며, 이 데이터를 바탕으로 자치구별 위험도를 평가하려 합니다."
   ]
  },
  {
   "cell_type": "markdown",
   "metadata": {},
   "source": [
    "#### 1. ultralytics 및 기타 패키지 설치하기\n",
    "\n",
    "[ultralytics](https://github.com/ultralytics/ultralytics)는 YOLO v8 모델의 사전 훈련된 버전을 제공하며, 사용자가 간편하게 추론을 수행할 수 있는 패키지입니다."
   ]
  },
  {
   "cell_type": "code",
   "execution_count": null,
   "metadata": {},
   "outputs": [],
   "source": [
    "pip show XlsxWriter"
   ]
  },
  {
   "cell_type": "code",
   "execution_count": null,
   "metadata": {},
   "outputs": [],
   "source": [
    "pip install -r requirements.txt"
   ]
  },
  {
   "cell_type": "markdown",
   "metadata": {},
   "source": [
    "#### 2. 패키지 불러오기"
   ]
  },
  {
   "cell_type": "code",
   "execution_count": null,
   "metadata": {},
   "outputs": [],
   "source": [
    "import os\n",
    "import pandas as pd\n",
    "import json\n",
    "import matplotlib.pyplot as plt\n",
    "from ultralytics import YOLO\n",
    "\n",
    "from common import imread, imwrite, save_dataframe_to_excel\n",
    "from detect import load_yolo_model, save_results_to_image"
   ]
  },
  {
   "cell_type": "markdown",
   "metadata": {},
   "source": [
    "#### 3. 사전 학습 모델 불러오기"
   ]
  },
  {
   "cell_type": "code",
   "execution_count": null,
   "metadata": {},
   "outputs": [],
   "source": [
    "seg_model = load_yolo_model('yolov8n-seg.pt')"
   ]
  },
  {
   "cell_type": "markdown",
   "metadata": {},
   "source": [
    "#### 4. 탐지할 객체 목록 불러오기"
   ]
  },
  {
   "cell_type": "code",
   "execution_count": null,
   "metadata": {},
   "outputs": [],
   "source": [
    "with open('classes.json', 'r') as file:\n",
    "    classes = json.load(file)\n",
    "\n",
    "# The classes dictionary values will be the column names\n",
    "columns = list(classes.values())"
   ]
  },
  {
   "cell_type": "markdown",
   "metadata": {},
   "source": [
    "#### 5. 거리뷰 이미지 데이터셋 불러오기"
   ]
  },
  {
   "cell_type": "code",
   "execution_count": null,
   "metadata": {},
   "outputs": [],
   "source": [
    "# 분석하고자 하는 이미지 폴더 dir_path에 설정\n",
    "dir_path = 'dataset/강동/'\n",
    "\n",
    "gu = dir_path.split('/')[-2]\n",
    "\n",
    "try:\n",
    "    if not os.path.exists(dir_path):\n",
    "        raise ValueError(f'The directory {dir_path} does not exist.')\n",
    "    file_lists = os.listdir(dir_path)\n",
    "    \n",
    "    if len(file_lists) == 0:\n",
    "        raise ValueError(f'Empty folder')\n",
    "\n",
    "except ValueError as e:\n",
    "    print(e)\n",
    "    print(\"Stopping notebook execution due to the above error.\")\n",
    "\n",
    "print('---'*10)\n",
    "print(f'Folder path : {dir_path}\\nNumber of images : {len(file_lists)}')"
   ]
  },
  {
   "cell_type": "markdown",
   "metadata": {},
   "source": [
    "#### 6. 추론 결과를 저장할 데이터시트 생성"
   ]
  },
  {
   "cell_type": "code",
   "execution_count": null,
   "metadata": {},
   "outputs": [],
   "source": [
    "df = pd.DataFrame(columns=columns)\n",
    "df.insert(0, 'file', [])"
   ]
  },
  {
   "cell_type": "markdown",
   "metadata": {},
   "source": [
    "#### 7. YOLO v8 사전 학습 모델을 활용해 추론"
   ]
  },
  {
   "cell_type": "code",
   "execution_count": null,
   "metadata": {},
   "outputs": [],
   "source": [
    "# Prdict\n",
    "output_dirs = 'output_'+gu\n",
    "if not os.path.exists(output_dirs):\n",
    "    os.makedirs(output_dirs)\n",
    "    \n",
    "for f in file_lists:\n",
    "    img = imread(os.path.join(dir_path, f))\n",
    "    results = seg_model.predict(img, device=0, conf=0.3)\n",
    "    \n",
    "    data = {class_name: 0 for class_name in columns}\n",
    "     \n",
    "    data['file'] = f\n",
    "\n",
    "    if results:\n",
    "        boxes = results[0].boxes\n",
    "        class_id = boxes.cls\n",
    "        \n",
    "        for i in class_id:\n",
    "            id = int(i.tolist())\n",
    "            try: \n",
    "                data[classes[str(id)]] += 1\n",
    "            except KeyError:\n",
    "                continue\n",
    "        \n",
    "        # (선택사항) 결과 이미지 저장\n",
    "        save_results_to_image(results, os.path.join(output_dirs, f))\n",
    "            \n",
    "    df.loc[len(df)] = data"
   ]
  },
  {
   "cell_type": "markdown",
   "metadata": {},
   "source": [
    "#### 8. 추론 결과를 동일 자치구별 합산"
   ]
  },
  {
   "cell_type": "code",
   "execution_count": null,
   "metadata": {},
   "outputs": [],
   "source": [
    "# Split the 'file' column by 'PIC' and store the first part in the 'road' column\n",
    "df['road'] = df['file'].str.split('_').str[0]\n",
    "\n",
    "# Drop the 'file' column\n",
    "df.drop('file', axis=1, inplace=True)\n",
    "\n",
    "agg_dict = {col: 'sum' for col in columns}\n",
    "\n",
    "# Group by 'road' and sum the values in the 'person' column, then reset the index\n",
    "df_combined = df.groupby('road').agg(agg_dict).reset_index()\n",
    "\n",
    "df_combined.head()"
   ]
  },
  {
   "cell_type": "markdown",
   "metadata": {},
   "source": [
    "#### 9. 엑셀 데이터시트로 저장"
   ]
  },
  {
   "cell_type": "code",
   "execution_count": null,
   "metadata": {},
   "outputs": [],
   "source": [
    "# Save the results to excel \n",
    "save_dataframe_to_excel(df_combined, f'outputs_{gu}.xlsx')"
   ]
  },
  {
   "cell_type": "markdown",
   "metadata": {},
   "source": [
    "#### Reference \n",
    "- YOLO v8 : https://github.com/ultralytics/ultralytics"
   ]
  }
 ],
 "metadata": {
  "kernelspec": {
   "display_name": "Python 3",
   "language": "python",
   "name": "python3"
  },
  "language_info": {
   "codemirror_mode": {
    "name": "ipython",
    "version": 3
   },
   "file_extension": ".py",
   "mimetype": "text/x-python",
   "name": "python",
   "nbconvert_exporter": "python",
   "pygments_lexer": "ipython3",
   "version": "3.9.13"
  },
  "orig_nbformat": 4
 },
 "nbformat": 4,
 "nbformat_minor": 2
}
